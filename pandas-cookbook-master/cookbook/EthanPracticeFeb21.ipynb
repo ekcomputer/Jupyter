{
 "cells": [
  {
   "cell_type": "code",
   "execution_count": 78,
   "metadata": {
    "collapsed": false
   },
   "outputs": [
    {
     "name": "stdout",
     "output_type": "stream",
     "text": [
      "\u001b[31mA quick tour of IPython Notebook.ipynb\u001b[m\u001b[m*\r\n",
      "\u001b[31mChapter 1 - Reading from a CSV.ipynb\u001b[m\u001b[m*\r\n",
      "\u001b[31mChapter 2 - Selecting data & finding the most common complaint type.ipynb\u001b[m\u001b[m*\r\n",
      "\u001b[31mChapter 3 - Which borough has the most noise complaints (or, more selecting data).ipynb\u001b[m\u001b[m*\r\n",
      "\u001b[31mChapter 4 - Find out on which weekday people bike the most with groupby and aggregate.ipynb\u001b[m\u001b[m*\r\n",
      "\u001b[31mChapter 5 - Combining dataframes and scraping Canadian weather data.ipynb\u001b[m\u001b[m*\r\n",
      "\u001b[31mChapter 6 - String Operations- Which month was the snowiest.ipynb\u001b[m\u001b[m*\r\n",
      "\u001b[31mChapter 7 - Cleaning up messy data.ipynb\u001b[m\u001b[m*\r\n",
      "\u001b[31mChapter 8 - How to deal with timestamps.ipynb\u001b[m\u001b[m*\r\n",
      "\u001b[31mChapter 9 - Loading data from SQL databases.ipynb\u001b[m\u001b[m*\r\n",
      "EthanPracticeFeb21.ipynb\r\n",
      "Untitled1.ipynb\r\n",
      "demo.xlsx\r\n",
      "\u001b[34mimages\u001b[m\u001b[m/\r\n"
     ]
    }
   ],
   "source": [
    "ls"
   ]
  },
  {
   "cell_type": "code",
   "execution_count": 82,
   "metadata": {
    "collapsed": false
   },
   "outputs": [
    {
     "data": {
      "application/javascript": [
       "IPython.notebook.set_autosave_interval(120000)"
      ]
     },
     "metadata": {},
     "output_type": "display_data"
    },
    {
     "name": "stdout",
     "output_type": "stream",
     "text": [
      "Autosaving every 120 seconds\n"
     ]
    }
   ],
   "source": [
    "%matplotlib inline\n",
    "import pandas as pd\n",
    "import matplotlib.pyplot as plt\n",
    "#import matplotlib.pyplot as plt\n",
    "%autosave 120"
   ]
  },
  {
   "cell_type": "code",
   "execution_count": 93,
   "metadata": {
    "collapsed": false
   },
   "outputs": [
    {
     "data": {
      "text/html": [
       "<div>\n",
       "<table border=\"1\" class=\"dataframe\">\n",
       "  <thead>\n",
       "    <tr style=\"text-align: right;\">\n",
       "      <th></th>\n",
       "      <th>T_room</th>\n",
       "      <th>P_room</th>\n",
       "      <th>CO2_raw</th>\n",
       "      <th>corr_int</th>\n",
       "      <th>corr_slope</th>\n",
       "      <th>temp</th>\n",
       "      <th>CO2_scaled</th>\n",
       "      <th>flow_rate</th>\n",
       "      <th>dTdt</th>\n",
       "      <th>fraction</th>\n",
       "      <th>ug_fraction</th>\n",
       "      <th>ug_sum</th>\n",
       "    </tr>\n",
       "    <tr>\n",
       "      <th>date_time</th>\n",
       "      <th></th>\n",
       "      <th></th>\n",
       "      <th></th>\n",
       "      <th></th>\n",
       "      <th></th>\n",
       "      <th></th>\n",
       "      <th></th>\n",
       "      <th></th>\n",
       "      <th></th>\n",
       "      <th></th>\n",
       "      <th></th>\n",
       "      <th></th>\n",
       "    </tr>\n",
       "  </thead>\n",
       "  <tbody>\n",
       "    <tr>\n",
       "      <th>2017-02-28 10:50:53</th>\n",
       "      <td>30.452</td>\n",
       "      <td>101.202</td>\n",
       "      <td>2.1</td>\n",
       "      <td>0</td>\n",
       "      <td>1</td>\n",
       "      <td>24.289020</td>\n",
       "      <td>5.81</td>\n",
       "      <td>0.000006</td>\n",
       "      <td>35.5</td>\n",
       "      <td>1</td>\n",
       "      <td>-0.157628</td>\n",
       "      <td>203.244576</td>\n",
       "    </tr>\n",
       "    <tr>\n",
       "      <th>2017-02-28 10:50:53</th>\n",
       "      <td>30.452</td>\n",
       "      <td>101.201</td>\n",
       "      <td>1.2</td>\n",
       "      <td>0</td>\n",
       "      <td>1</td>\n",
       "      <td>24.370300</td>\n",
       "      <td>3.32</td>\n",
       "      <td>0.000003</td>\n",
       "      <td>35.5</td>\n",
       "      <td>1</td>\n",
       "      <td>-0.152766</td>\n",
       "      <td>203.245055</td>\n",
       "    </tr>\n",
       "    <tr>\n",
       "      <th>2017-02-28 10:50:53</th>\n",
       "      <td>30.452</td>\n",
       "      <td>101.201</td>\n",
       "      <td>1.4</td>\n",
       "      <td>0</td>\n",
       "      <td>1</td>\n",
       "      <td>24.427282</td>\n",
       "      <td>3.87</td>\n",
       "      <td>0.000004</td>\n",
       "      <td>35.5</td>\n",
       "      <td>1</td>\n",
       "      <td>-0.111633</td>\n",
       "      <td>203.245393</td>\n",
       "    </tr>\n",
       "    <tr>\n",
       "      <th>2017-02-28 10:50:53</th>\n",
       "      <td>30.452</td>\n",
       "      <td>101.201</td>\n",
       "      <td>1.7</td>\n",
       "      <td>0</td>\n",
       "      <td>1</td>\n",
       "      <td>24.362526</td>\n",
       "      <td>4.70</td>\n",
       "      <td>0.000005</td>\n",
       "      <td>35.5</td>\n",
       "      <td>1</td>\n",
       "      <td>-0.133292</td>\n",
       "      <td>203.245819</td>\n",
       "    </tr>\n",
       "  </tbody>\n",
       "</table>\n",
       "</div>"
      ],
      "text/plain": [
       "                     T_room   P_room  CO2_raw  corr_int  corr_slope       temp  CO2_scaled  flow_rate  dTdt  fraction  ug_fraction      ug_sum\n",
       "date_time                                                                                                                                     \n",
       "2017-02-28 10:50:53  30.452  101.202      2.1         0           1  24.289020        5.81   0.000006  35.5         1    -0.157628  203.244576\n",
       "2017-02-28 10:50:53  30.452  101.201      1.2         0           1  24.370300        3.32   0.000003  35.5         1    -0.152766  203.245055\n",
       "2017-02-28 10:50:53  30.452  101.201      1.4         0           1  24.427282        3.87   0.000004  35.5         1    -0.111633  203.245393\n",
       "2017-02-28 10:50:53  30.452  101.201      1.7         0           1  24.362526        4.70   0.000005  35.5         1    -0.133292  203.245819"
      ]
     },
     "execution_count": 93,
     "metadata": {},
     "output_type": "execute_result"
    }
   ],
   "source": [
    "data = '/Users/ethankyzivat/Documents/Macrosystems/tg-JAME-S.csv'\n",
    "dataf=pd.read_csv(data, parse_dates=['date_time'], index_col='date_time')\n",
    "dataf[:4]"
   ]
  },
  {
   "cell_type": "code",
   "execution_count": 94,
   "metadata": {
    "collapsed": false
   },
   "outputs": [
    {
     "data": {
      "text/plain": [
       "<matplotlib.axes._subplots.AxesSubplot at 0x1135ef7d0>"
      ]
     },
     "execution_count": 94,
     "metadata": {},
     "output_type": "execute_result"
    },
    {
     "data": {
      "image/png": "[encoded data removed]",
      "text/plain": [
       "<matplotlib.figure.Figure at 0x115df62d0>"
      ]
     },
     "metadata": {},
     "output_type": "display_data"
    }
   ],
   "source": [
    "# Make the graphs a bit prettier, and bigger\n",
    "pd.set_option('display.mpl_style', 'default')\n",
    "\n",
    "# This is necessary to show lots of columns in pandas 0.12. \n",
    "# Not necessary in pandas 0.13.\n",
    "pd.set_option('display.width', 5000) \n",
    "pd.set_option('display.max_columns', 60)\n",
    "\n",
    "plt.rcParams['figure.figsize'] = (15, 5)\n",
    "\n",
    "dataf['CO2_raw'].plot()"
   ]
  },
  {
   "cell_type": "code",
   "execution_count": 109,
   "metadata": {
    "collapsed": false
   },
   "outputs": [
    {
     "name": "stderr",
     "output_type": "stream",
     "text": [
      "/Users/ethankyzivat/anaconda2/lib/python2.7/site-packages/ipykernel/__main__.py:5: UserWarning: Boolean Series key will be reindexed to match DataFrame index.\n"
     ]
    }
   ],
   "source": [
    "data= '/Users/ethankyzivat/Documents/Macrosystems/Y1856-NEPA_20161213_1221.csv'\n",
    "#cols=range(0,15)\n",
    "dataf=pd.read_csv(data, parse_dates=True, skip_blank_lines=True, header=1, infer_datetime_format=True)\n",
    "dataf = dataf[~dataf['DATE'].str.contains('Eureka')]\n",
    "dataf = rmheaders[~dataf['DATE'].str.contains('DATE')]\n",
    "un=dataf['DATE'].unique()"
   ]
  },
  {
   "cell_type": "code",
   "execution_count": 107,
   "metadata": {
    "collapsed": false
   },
   "outputs": [
    {
     "data": {
      "text/plain": [
       "<matplotlib.axes._subplots.AxesSubplot at 0x116705510>"
      ]
     },
     "execution_count": 107,
     "metadata": {},
     "output_type": "execute_result"
    },
    {
     "data": {
      "image/png": "[encoded data removed]",
      "text/plain": [
       "<matplotlib.figure.Figure at 0x1162b4f50>"
      ]
     },
     "metadata": {},
     "output_type": "display_data"
    }
   ],
   "source": [
    "#dataf['Temp deg C'].unique().plot(type=histogram)\n",
    "#range =range(1,10)\n",
    "#dataf['DATE'].plot(kind=hist)\n",
    "df=pd.DataFrame([1,0])\n",
    "df.plot(kind='hist')\n"
   ]
  },
  {
   "cell_type": "raw",
   "metadata": {},
   "source": [
    "#Summary:\n",
    "df = pd.read_csv('../data/bikes.csv', sep=';', encoding='latin1', parse_dates=['Date'], dayfirst=True, index_col='Date')\n",
    "df['Berri 1'].plot()"
   ]
  },
  {
   "cell_type": "code",
   "execution_count": null,
   "metadata": {
    "collapsed": false
   },
   "outputs": [],
   "source": [
    "import time"
   ]
  },
  {
   "cell_type": "code",
   "execution_count": null,
   "metadata": {
    "collapsed": false
   },
   "outputs": [],
   "source": [
    "time.localtime(dataf['date_time'][:4])"
   ]
  },
  {
   "cell_type": "code",
   "execution_count": null,
   "metadata": {
    "collapsed": false
   },
   "outputs": [],
   "source": [
    "###Excel with pandas tutorial\n",
    "https://pandas-xlsxwriter-charts.readthedocs.io/introduction.html\n",
    "\n",
    "\n",
    "import xlsxwriter\n",
    "\n",
    "# Create an new Excel file and add a worksheet.\n",
    "workbook = xlsxwriter.Workbook('demo.xlsx')\n",
    "worksheet = workbook.add_worksheet()\n",
    "\n",
    "# Widen the first column to make the text clearer.\n",
    "worksheet.set_column('A:A', 20)\n",
    "\n",
    "# Add a bold format to use to highlight cells.\n",
    "bold = workbook.add_format({'bold': 1})\n",
    "\n",
    "# Write some simple text.\n",
    "worksheet.write('A1', 'Hello')\n",
    "\n",
    "# Text with formatting.\n",
    "worksheet.write('A2', 'World', bold)\n",
    "\n",
    "# Write some numbers, with row/column notation.\n",
    "worksheet.write(2, 0, 123)\n",
    "worksheet.write(3, 0, 123.456)\n",
    "\n",
    "# Insert an image.\n",
    "worksheet.insert_image('B5', 'logo.png')\n",
    "\n",
    "workbook.close()"
   ]
  },
  {
   "cell_type": "code",
   "execution_count": null,
   "metadata": {
    "collapsed": true
   },
   "outputs": [],
   "source": [
    "#useful functions:\n",
    "pd.read_csv()\n",
    "weather_2012.to_csv('../data/weather_2012.csv')"
   ]
  }
 ],
 "metadata": {
  "kernelspec": {
   "display_name": "Python 2",
   "language": "python",
   "name": "python2"
  },
  "language_info": {
   "codemirror_mode": {
    "name": "ipython",
    "version": 2
   },
   "file_extension": ".py",
   "mimetype": "text/x-python",
   "name": "python",
   "nbconvert_exporter": "python",
   "pygments_lexer": "ipython2",
   "version": "2.7.13"
  }
 },
 "nbformat": 4,
 "nbformat_minor": 2
}
